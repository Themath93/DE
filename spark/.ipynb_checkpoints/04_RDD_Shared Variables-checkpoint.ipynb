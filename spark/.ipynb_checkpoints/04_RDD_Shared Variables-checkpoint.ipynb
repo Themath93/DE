{
 "cells": [
  {
   "cell_type": "code",
   "execution_count": 49,
   "metadata": {},
   "outputs": [],
   "source": [
    "from IPython.core.interactiveshell import InteractiveShell\n",
    "InteractiveShell.ast_node_interactivity = \"all\""
   ]
  },
  {
   "cell_type": "markdown",
   "metadata": {},
   "source": [
    "# Shared Variables"
   ]
  },
  {
   "cell_type": "markdown",
   "metadata": {},
   "source": [
    "- 모든 노드에서 사용하기 위한 공유변수\n",
    "\n",
    "\n",
    "- 공유변수로 지정한 값은 모든 노드에 중복되어 캐시된다.\n",
    "\n",
    "\n",
    "- 반복적으로 사용해야하는 변수라면,  \n",
    "  스파크의 노드는 네트워크를 통해 통신 하기 때문에 모든 노드에 중복 캐시하는 시스템적 비용보다  \n",
    "  네트워크 과정에서 발생하는 오버헤드 비용이 더 많이 발생하게 된다."
   ]
  },
  {
   "cell_type": "markdown",
   "metadata": {},
   "source": [
    "## Broadcast Variables"
   ]
  },
  {
   "cell_type": "markdown",
   "metadata": {},
   "source": [
    "- 각 노드에 공유되는 읽기 전용 변수"
   ]
  },
  {
   "cell_type": "code",
   "execution_count": 8,
   "metadata": {},
   "outputs": [
    {
     "data": {
      "text/plain": [
       "[('홍길동', 'Data Engineer'),\n",
       " ('이제동', 'Data Science'),\n",
       " ('하명도', 'Data Engineer'),\n",
       " ('변현재', 'Web Developer')]"
      ]
     },
     "execution_count": 8,
     "metadata": {},
     "output_type": "execute_result"
    }
   ],
   "source": [
    "# 학생별 수업 카테고리코드로 지정되어있는 값을, 카테고리의 상세 값으로 변경한다고 가정\n",
    "data = [(\"홍길동\",\"DE\"),\n",
    "    (\"이제동\",\"DS\"),\n",
    "    (\"하명도\",\"DE\"),\n",
    "    (\"변현재\",\"WD\")]\n",
    "\n",
    "code_desc = {\"DE\":\"Data Engineer\", \"DS\":\"Data Science\", \"WD\":\"Web Developer\"}\n",
    "students_rdd = sc.parallelize(data)\n",
    "students_rdd.mapValues(lambda e : code_desc[e]).collect()    "
   ]
  },
  {
   "cell_type": "code",
   "execution_count": 16,
   "metadata": {},
   "outputs": [
    {
     "name": "stdout",
     "output_type": "stream",
     "text": [
      "{'DS': 'Data Science', 'WD': 'Web Developer'}\n"
     ]
    },
    {
     "data": {
      "text/plain": [
       "[('홍길동', 'Data Engineer'),\n",
       " ('이제동', 'Data Science'),\n",
       " ('하명도', 'Data Engineer'),\n",
       " ('변현재', 'Web Developer')]"
      ]
     },
     "execution_count": 16,
     "metadata": {},
     "output_type": "execute_result"
    }
   ],
   "source": [
    "# Braodcast_variables 사용하기\n",
    "broadcast_code = sc.broadcast(code_desc)\n",
    "broadcast_code.value\n",
    "\n",
    "# 공유변수에서 DE 키값을 삭제하더라도\n",
    "del(broadcast_code.value['DE'])\n",
    "\n",
    "#코드 변환이 성공적으로 이루어진다. 즉 삭제가 되지 않음\n",
    "#broadcast 함수를 사용해 생성하는 시점에 sparkContext에 등록되기 때문\n",
    "students_rdd.mapValues(lambda e : broadcast_code.value[e]).collect()    "
   ]
  },
  {
   "cell_type": "markdown",
   "metadata": {},
   "source": [
    "## Accumulator"
   ]
  },
  {
   "cell_type": "markdown",
   "metadata": {},
   "source": [
    "- 각 노드에 공유되는 누산기 함수"
   ]
  },
  {
   "cell_type": "code",
   "execution_count": null,
   "metadata": {
    "scrolled": true
   },
   "outputs": [],
   "source": [
    "a = 0\n",
    "def change_cate(e):\n",
    "    a = a +1\n",
    "    return broadcast_code.value[e]\n",
    "\n",
    "students_rdd.mapValues(lambda e : change_cate(e)).collect()    \n",
    "\n"
   ]
  },
  {
   "cell_type": "code",
   "execution_count": null,
   "metadata": {},
   "outputs": [],
   "source": [
    "\n"
   ]
  },
  {
   "cell_type": "code",
   "execution_count": 62,
   "metadata": {},
   "outputs": [
    {
     "data": {
      "text/plain": [
       "[('홍길동', 'Data Engineer'),\n",
       " ('이제동', 'Data Science'),\n",
       " ('하명도', 'Data Engineer'),\n",
       " ('변현재', 'Web Developer')]"
      ]
     },
     "execution_count": 62,
     "metadata": {},
     "output_type": "execute_result"
    },
    {
     "data": {
      "text/plain": [
       "4"
      ]
     },
     "execution_count": 62,
     "metadata": {},
     "output_type": "execute_result"
    }
   ],
   "source": []
  }
 ],
 "metadata": {
  "kernelspec": {
   "display_name": "Python 3 (ipykernel)",
   "language": "python",
   "name": "python3"
  },
  "language_info": {
   "codemirror_mode": {
    "name": "ipython",
    "version": 3
   },
   "file_extension": ".py",
   "mimetype": "text/x-python",
   "name": "python",
   "nbconvert_exporter": "python",
   "pygments_lexer": "ipython3",
   "version": "3.8.10"
  }
 },
 "nbformat": 4,
 "nbformat_minor": 5
}
