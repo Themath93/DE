{
 "cells": [
  {
   "cell_type": "code",
   "execution_count": 1,
   "metadata": {},
   "outputs": [],
   "source": [
    "from IPython.core.interactiveshell import InteractiveShell\n",
    "InteractiveShell.ast_node_interactivity = \"all\""
   ]
  },
  {
   "cell_type": "code",
   "execution_count": 2,
   "metadata": {},
   "outputs": [],
   "source": [
    "from datetime import date, datetime\n",
    "from pyspark.sql import *\n",
    "from pyspark.sql.types import *\n",
    "from pyspark.sql.functions import *\n"
   ]
  },
  {
   "cell_type": "markdown",
   "metadata": {},
   "source": [
    "## select()"
   ]
  },
  {
   "cell_type": "code",
   "execution_count": 3,
   "metadata": {},
   "outputs": [
    {
     "name": "stderr",
     "output_type": "stream",
     "text": [
      "[Stage 1:>                                                          (0 + 1) / 1]\r"
     ]
    },
    {
     "name": "stdout",
     "output_type": "stream",
     "text": [
      "+--------+------+-------------+--------+-----------+-------------+\n",
      "|class_cd|school|class_std_cnt|     loc|school_type|teaching_type|\n",
      "+--------+------+-------------+--------+-----------+-------------+\n",
      "|     6OL| ANKYI|           20|   Urban| Non-public|     Standard|\n",
      "|     ZNS| ANKYI|           21|   Urban| Non-public|     Standard|\n",
      "|     2B1| CCAAW|           18|Suburban| Non-public| Experimental|\n",
      "+--------+------+-------------+--------+-----------+-------------+\n",
      "only showing top 3 rows\n",
      "\n"
     ]
    },
    {
     "name": "stderr",
     "output_type": "stream",
     "text": [
      "\r",
      "                                                                                \r"
     ]
    }
   ],
   "source": [
    "# DataFrame.select(*cols)[source]\n",
    "# Parameters\n",
    "# cols : str, Column, or list\n",
    "# column names (string) or expressions (Column). \n",
    "#If one of the column names is ‘*’, that column is expanded to include all columns in the current DataFrame.\n",
    "class_df = spark.read.csv('/dataframe/a_class_info.csv', header=True)\n",
    "class_df.show(3)"
   ]
  },
  {
   "cell_type": "code",
   "execution_count": 12,
   "metadata": {},
   "outputs": [
    {
     "name": "stdout",
     "output_type": "stream",
     "text": [
      "+------+--------+-------------+\n",
      "|school|     loc|teaching_type|\n",
      "+------+--------+-------------+\n",
      "| ANKYI|   Urban|     Standard|\n",
      "| ANKYI|   Urban|     Standard|\n",
      "| CCAAW|Suburban| Experimental|\n",
      "+------+--------+-------------+\n",
      "only showing top 3 rows\n",
      "\n",
      "+--------+------+-------------+--------+-----------+-------------+\n",
      "|class_cd|school|class_std_cnt|     loc|school_type|teaching_type|\n",
      "+--------+------+-------------+--------+-----------+-------------+\n",
      "|     6OL| ANKYI|           20|   Urban| Non-public|     Standard|\n",
      "|     ZNS| ANKYI|           21|   Urban| Non-public|     Standard|\n",
      "|     2B1| CCAAW|           18|Suburban| Non-public| Experimental|\n",
      "+--------+------+-------------+--------+-----------+-------------+\n",
      "only showing top 3 rows\n",
      "\n",
      "+--------+------+\n",
      "|class_cd|school|\n",
      "+--------+------+\n",
      "|     6OL| ANKYI|\n",
      "|     ZNS| ANKYI|\n",
      "|     2B1| CCAAW|\n",
      "+--------+------+\n",
      "only showing top 3 rows\n",
      "\n"
     ]
    }
   ],
   "source": [
    "# str\n",
    "df_spark = class_df.select('school','loc','teaching_type')\n",
    "df_spark.show(3)\n",
    "\n",
    "# *\n",
    "df_spark = class_df.select('*')\n",
    "df_spark.show(3)\n",
    "\n",
    "# list\n",
    "df_spark = class_df.select(['class_cd','school'])\n",
    "df_spark.show(3)"
   ]
  },
  {
   "cell_type": "markdown",
   "metadata": {},
   "source": [
    "#### Column "
   ]
  },
  {
   "cell_type": "code",
   "execution_count": 17,
   "metadata": {},
   "outputs": [
    {
     "data": {
      "text/plain": [
       "Column<'school'>"
      ]
     },
     "execution_count": 17,
     "metadata": {},
     "output_type": "execute_result"
    },
    {
     "data": {
      "text/plain": [
       "Column<'school'>"
      ]
     },
     "execution_count": 17,
     "metadata": {},
     "output_type": "execute_result"
    },
    {
     "data": {
      "text/plain": [
       "Column<'unresolvedregex()'>"
      ]
     },
     "execution_count": 17,
     "metadata": {},
     "output_type": "execute_result"
    },
    {
     "data": {
      "text/plain": [
       "Column<'school'>"
      ]
     },
     "execution_count": 17,
     "metadata": {},
     "output_type": "execute_result"
    }
   ],
   "source": [
    "# Column : 내부에 DataFrame 연산을 위한 Expression을 가지고 있는 객체\n",
    "col('school')\n",
    "\n",
    "# 데이터프레임에서 원하는 컬럼을 반환\n",
    "class_df.school\n",
    "\n",
    "class_df.colRegex(\"`^school.*`\")\n",
    "\n",
    "lit('school')"
   ]
  },
  {
   "cell_type": "code",
   "execution_count": 21,
   "metadata": {},
   "outputs": [
    {
     "name": "stdout",
     "output_type": "stream",
     "text": [
      "+------+\n",
      "|school|\n",
      "+------+\n",
      "| ANKYI|\n",
      "| ANKYI|\n",
      "| CCAAW|\n",
      "+------+\n",
      "only showing top 3 rows\n",
      "\n",
      "+------+\n",
      "|school|\n",
      "+------+\n",
      "| ANKYI|\n",
      "| ANKYI|\n",
      "| CCAAW|\n",
      "+------+\n",
      "only showing top 3 rows\n",
      "\n",
      "+------+-----------+\n",
      "|school|school_type|\n",
      "+------+-----------+\n",
      "| ANKYI| Non-public|\n",
      "| ANKYI| Non-public|\n",
      "| CCAAW| Non-public|\n",
      "+------+-----------+\n",
      "only showing top 3 rows\n",
      "\n",
      "+------+\n",
      "|school|\n",
      "+------+\n",
      "|school|\n",
      "|school|\n",
      "|school|\n",
      "+------+\n",
      "only showing top 3 rows\n",
      "\n"
     ]
    }
   ],
   "source": [
    "df_spark = class_df.select(col('school'))\n",
    "df_spark.show(3)\n",
    "\n",
    "df_spark = class_df.select(class_df.school)\n",
    "df_spark.show(3)\n",
    "\n",
    "df_spark = class_df.select(class_df.colRegex(\"`^school.*`\"))\n",
    "df_spark.show(3)\n",
    "\n",
    "#df_spark = class_df.select(lit('school'))\n",
    "#df_spark.show(3)"
   ]
  },
  {
   "cell_type": "markdown",
   "metadata": {},
   "source": [
    "#### Column 연산"
   ]
  },
  {
   "cell_type": "markdown",
   "metadata": {},
   "source": [
    "- 산술연산 :  +  -  *  /  %\n",
    "- 비교연산 : <  >  <=  >=  ==  !=\n",
    "- 논리연산 : &  |\n",
    "\n",
    "\n"
   ]
  },
  {
   "cell_type": "markdown",
   "metadata": {},
   "source": [
    "![op-overloading](./img/op_overloading.png)"
   ]
  },
  {
   "cell_type": "code",
   "execution_count": 33,
   "metadata": {},
   "outputs": [
    {
     "data": {
      "text/plain": [
       "Column<'(class_std_cnt + 100)'>"
      ]
     },
     "execution_count": 33,
     "metadata": {},
     "output_type": "execute_result"
    },
    {
     "data": {
      "text/plain": [
       "Column<'(class_std_cnt - 100)'>"
      ]
     },
     "execution_count": 33,
     "metadata": {},
     "output_type": "execute_result"
    },
    {
     "data": {
      "text/plain": [
       "Column<'(class_std_cnt / 100)'>"
      ]
     },
     "execution_count": 33,
     "metadata": {},
     "output_type": "execute_result"
    },
    {
     "data": {
      "text/plain": [
       "Column<'(class_std_cnt % 100)'>"
      ]
     },
     "execution_count": 33,
     "metadata": {},
     "output_type": "execute_result"
    },
    {
     "data": {
      "text/plain": [
       "Column<'(class_std_cnt < 100)'>"
      ]
     },
     "execution_count": 33,
     "metadata": {},
     "output_type": "execute_result"
    },
    {
     "data": {
      "text/plain": [
       "Column<'(class_std_cnt > 100)'>"
      ]
     },
     "execution_count": 33,
     "metadata": {},
     "output_type": "execute_result"
    },
    {
     "data": {
      "text/plain": [
       "Column<'(class_std_cnt <= 100)'>"
      ]
     },
     "execution_count": 33,
     "metadata": {},
     "output_type": "execute_result"
    },
    {
     "data": {
      "text/plain": [
       "Column<'(class_std_cnt >= 100)'>"
      ]
     },
     "execution_count": 33,
     "metadata": {},
     "output_type": "execute_result"
    },
    {
     "data": {
      "text/plain": [
       "Column<'((class_std_cnt >= 100) AND (class_std_cnt < 1000))'>"
      ]
     },
     "execution_count": 33,
     "metadata": {},
     "output_type": "execute_result"
    },
    {
     "name": "stdout",
     "output_type": "stream",
     "text": [
      "+------+--------+------------------------------------------------+\n",
      "|school|class_cd|((class_std_cnt >= 10) AND (class_std_cnt < 20))|\n",
      "+------+--------+------------------------------------------------+\n",
      "| ANKYI|     6OL|                                           false|\n",
      "| ANKYI|     ZNS|                                           false|\n",
      "| CCAAW|     2B1|                                            true|\n",
      "+------+--------+------------------------------------------------+\n",
      "only showing top 3 rows\n",
      "\n",
      "+------+--------+------+\n",
      "|school|class_cd|is_big|\n",
      "+------+--------+------+\n",
      "| ANKYI|     6OL| false|\n",
      "| ANKYI|     ZNS| false|\n",
      "| CCAAW|     2B1|  true|\n",
      "+------+--------+------+\n",
      "only showing top 3 rows\n",
      "\n"
     ]
    }
   ],
   "source": [
    "class_df.class_std_cnt + 100\n",
    "class_df.class_std_cnt - 100\n",
    "class_df.class_std_cnt / 100\n",
    "class_df.class_std_cnt % 100\n",
    "class_df.class_std_cnt < 100\n",
    "class_df.class_std_cnt > 100\n",
    "class_df.class_std_cnt <= 100\n",
    "class_df.class_std_cnt >= 100\n",
    "(class_df.class_std_cnt >= 100) & (class_df.class_std_cnt < 1000)\n",
    "\n",
    "# DataFrame의 select메서드에 새로운 컬럼을 전달인자로 보낼 경우 해당 컬럼이 추가된 새로운 DataFrame이 생성된다.\n",
    "class_df.select(class_df.school, class_df.class_cd, (class_df.class_std_cnt >= 10) & (class_df.class_std_cnt < 20)).show(3)\n",
    "\n",
    "col_is_big = ((class_df.class_std_cnt >= 10) & (class_df.class_std_cnt < 20)).alias('is_big')\n",
    "class_df.select(class_df.school\n",
    "                , class_df.class_cd\n",
    "                , col_is_big).show(3)"
   ]
  },
  {
   "cell_type": "markdown",
   "metadata": {},
   "source": [
    "\n",
    "#### Column 메서드"
   ]
  },
  {
   "cell_type": "code",
   "execution_count": 43,
   "metadata": {},
   "outputs": [
    {
     "name": "stdout",
     "output_type": "stream",
     "text": [
      "+--------+------+-------------+--------+-----------+-------------+\n",
      "|class_cd|school|class_std_cnt|     loc|school_type|teaching_type|\n",
      "+--------+------+-------------+--------+-----------+-------------+\n",
      "|     6OL| ANKYI|           20|   Urban| Non-public|     Standard|\n",
      "|     ZNS| ANKYI|           21|   Urban| Non-public|     Standard|\n",
      "|     2B1| CCAAW|           18|Suburban| Non-public| Experimental|\n",
      "+--------+------+-------------+--------+-----------+-------------+\n",
      "only showing top 3 rows\n",
      "\n"
     ]
    },
    {
     "data": {
      "text/plain": [
       "Column<'class_std_cnt ASC NULLS FIRST'>"
      ]
     },
     "execution_count": 43,
     "metadata": {},
     "output_type": "execute_result"
    },
    {
     "name": "stdout",
     "output_type": "stream",
     "text": [
      "+------+--------+-------------+\n",
      "|school|class_cd|class_std_cnt|\n",
      "+------+--------+-------------+\n",
      "| GOOBU|     18K|           31|\n",
      "| VVTVA|     A93|           30|\n",
      "| VVTVA|     YTB|           30|\n",
      "| ZOWMK|     Q0E|           30|\n",
      "| ZOWMK|     QA2|           30|\n",
      "| ZOWMK|     ZBH|           30|\n",
      "| VVTVA|     7BL|           29|\n",
      "| CUQAM|     1Q1|           28|\n",
      "| QOQTS|     0N7|           28|\n",
      "| CUQAM|     OMI|           28|\n",
      "| DNQDD|     ROP|           28|\n",
      "| GOOBU|     HKF|           28|\n",
      "| QOQTS|     SUR|           28|\n",
      "| GJJHK|     NOR|           27|\n",
      "| GJJHK|     ZDT|           27|\n",
      "| KFZMY|     1VD|           27|\n",
      "| ZOWMK|     CII|           27|\n",
      "| CUQAM|     BFY|           27|\n",
      "| DNQDD|     XXJ|           27|\n",
      "| DNQDD|     2AP|           27|\n",
      "| GOOBU|     W8A|           26|\n",
      "| UKPGS|     9AW|           25|\n",
      "| VVTVA|     TB5|           25|\n",
      "| GOOBU|     U6J|           25|\n",
      "| KFZMY|     21Q|           25|\n",
      "| QOQTS|     X2O|           25|\n",
      "| GOOBU|     PBA|           24|\n",
      "| CUQAM|     X6Z|           24|\n",
      "| GOOBU|     CXC|           24|\n",
      "| KZKKE|     5JK|           24|\n",
      "| QOQTS|     3XJ|           24|\n",
      "| ZMNYA|     1UU|           24|\n",
      "| OJOBU|     XJ8|           23|\n",
      "| KZKKE|     QTU|           23|\n",
      "| UKPGS|     PGH|           23|\n",
      "| UAGPU|     62L|           23|\n",
      "| ZMNYA|     V77|           23|\n",
      "| GOKXL|     TSA|           23|\n",
      "| UKPGS|     XXE|           22|\n",
      "| GOKXL|     ENO|           22|\n",
      "| KZKKE|     3D0|           22|\n",
      "| OJOBU|     6U9|           22|\n",
      "| VKWQH|     IEM|           22|\n",
      "| GJJHK|     HCB|           22|\n",
      "| IDGFP|     05H|           22|\n",
      "| KZKKE|     O6A|           22|\n",
      "| QOQTS|     RK7|           22|\n",
      "| QOQTS|     XZ4|           22|\n",
      "| UAGPU|     1SZ|           22|\n",
      "| ZMNYA|     4NN|           22|\n",
      "| ANKYI|     ZNS|           21|\n",
      "| GJJHK|     X78|           21|\n",
      "| LAYPA|     AJ1|           21|\n",
      "| CCAAW|     PGK|           21|\n",
      "| GJJHK|     YUC|           21|\n",
      "| UAGPU|     NWZ|           21|\n",
      "| VKWQH|     D33|           21|\n",
      "| IDGFP|     98D|           21|\n",
      "| UAGPU|     S98|           21|\n",
      "| UKPGS|     08N|           21|\n",
      "| CIMBB|     EID|           21|\n",
      "| DNQDD|     PW5|           20|\n",
      "| UUUQX|     P8I|           20|\n",
      "| DNQDD|     ST7|           20|\n",
      "| VKWQH|     GYM|           20|\n",
      "| KZKKE|     2BR|           20|\n",
      "| CCAAW|     EPS|           20|\n",
      "| VHDHF|     CD8|           20|\n",
      "| ANKYI|     6OL|           20|\n",
      "| CCAAW|     UWK|           19|\n",
      "| OJOBU|     FS3|           19|\n",
      "| CIMBB|     A33|           19|\n",
      "| UKPGS|     IPU|           19|\n",
      "| VKWQH|     DFQ|           19|\n",
      "| GOKXL|     VA6|           19|\n",
      "| LAYPA|     J8J|           19|\n",
      "|  null|     MDS|           18|\n",
      "| UKPGS|     KXB|           18|\n",
      "| VKWQH|     341|           18|\n",
      "| FBUMG|     5LQ|           18|\n",
      "| CCAAW|     2B1|           18|\n",
      "| IDGFP|     P2A|           17|\n",
      "| IDGFP|     XZM|           17|\n",
      "| IDGFP|     G2L|           17|\n",
      "| LAYPA|     RA5|           17|\n",
      "| OJOBU|     5SZ|           17|\n",
      "| CIMBB|     PC6|           17|\n",
      "| UUUQX|     AE1|           17|\n",
      "| CIMBB|     HUJ|           17|\n",
      "| CCAAW|     UHU|           16|\n",
      "| UUUQX|     6C1|           16|\n",
      "| UUUQX|     H7S|           16|\n",
      "| VHDHF|     J6X|           16|\n",
      "| UUUQX|     SSP|           15|\n",
      "| VHDHF|     KR1|           15|\n",
      "| CCAAW|     IQN|           15|\n",
      "| FBUMG|     197|           14|\n",
      "| FBUMG|     JGD|           14|\n",
      "|  null|     MDE|           10|\n",
      "|  null|     6PP|         null|\n",
      "+------+--------+-------------+\n",
      "only showing top 100 rows\n",
      "\n"
     ]
    }
   ],
   "source": [
    "class_df = spark.read.csv('/dataframe/a_class_info.csv', header=True)\n",
    "class_df.show(3)\n",
    "\n",
    "school = class_df.school\n",
    "class_cd = class_df.class_cd\n",
    "std_cnt = class_df.class_std_cnt\n",
    "\n",
    "std_cnt.asc()\n",
    "class_df.select(class_df.school, class_cd, class_df.class_std_cnt).sort(std_cnt.desc()).show(100)\n"
   ]
  },
  {
   "cell_type": "markdown",
   "metadata": {},
   "source": [
    "## select 연습"
   ]
  },
  {
   "cell_type": "markdown",
   "metadata": {},
   "source": [
    "DataFrame은 class_df 를 사용합니다\n",
    "\n",
    "1. 모든 row의  class_cd, school, loc, school_type, teaching_type을 출력하시오.  \n",
    "   school_type의 컬럼명은 '공립/사립여부' 로 표시합니다.\n",
    "   \n",
    "   \n",
    "2. class_cd, school, scale 을 출력하시오.   \n",
    "   scale 컬럼은 반의 인원수가 15명 미만이면 small, 15명 이상 25명 미만이면 middle, 25명 이상이면 big 값을 가집니다.\n",
    "   \n",
    "   \n",
    "3. class_cd, school, class_std_cnt를 출력하시오  \n",
    "   class_std_cnt 컬럼의 값들은 string타입으로 형변환합니다."
   ]
  },
  {
   "cell_type": "code",
   "execution_count": 55,
   "metadata": {},
   "outputs": [
    {
     "name": "stdout",
     "output_type": "stream",
     "text": [
      "+--------+------+--------+-------------+-------------+\n",
      "|class_cd|school|     loc|공립/사립여부|teaching_type|\n",
      "+--------+------+--------+-------------+-------------+\n",
      "|     6OL| ANKYI|   Urban|   Non-public|     Standard|\n",
      "|     ZNS| ANKYI|   Urban|   Non-public|     Standard|\n",
      "|     2B1| CCAAW|Suburban|   Non-public| Experimental|\n",
      "+--------+------+--------+-------------+-------------+\n",
      "only showing top 3 rows\n",
      "\n",
      "root\n",
      " |-- class_cd: string (nullable = true)\n",
      " |-- school: string (nullable = true)\n",
      " |-- class_std_cnt: string (nullable = true)\n",
      " |-- loc: string (nullable = true)\n",
      " |-- school_type: string (nullable = true)\n",
      " |-- teaching_type: string (nullable = true)\n",
      "\n",
      "+--------+------+------+\n",
      "|class_cd|school| scale|\n",
      "+--------+------+------+\n",
      "|     6OL| ANKYI|middle|\n",
      "|     ZNS| ANKYI|middle|\n",
      "|     2B1| CCAAW|middle|\n",
      "+--------+------+------+\n",
      "only showing top 3 rows\n",
      "\n",
      "root\n",
      " |-- class_cd: string (nullable = true)\n",
      " |-- school: string (nullable = true)\n",
      " |-- class_std_cnt: integer (nullable = true)\n",
      "\n"
     ]
    }
   ],
   "source": [
    "# 모든 row의 class_cd, school, loc, school_type, teaching_type을 출력하시오.\n",
    "# school_type의 컬럼명은 '공립/사립여부' 로 표시합니다.\n",
    "# hint : pyspark.sql.Column.alias()\n",
    "class_df.select('class_cd', 'school', 'loc', class_df.school_type.alias('공립/사립여부') , 'teaching_type').show(3)\n",
    "\n",
    "# class_cd, school, scale 을 출력하시오.\n",
    "# scale 컬럼은 반의 인원수가 15명 미만이면 small, 15명 이상 25명 미만이면 middle, 25명 이상이면 big 값을 가집니다.\n",
    "# hint : pyspark.sql.functions.when()\n",
    "class_df.printSchema()\n",
    "class_df.select('class_cd', 'school', (when(class_df.class_std_cnt < 15, 'small')\n",
    "                                            .when((class_df.class_std_cnt >= 15) & (class_df.class_std_cnt < 25), 'middle')\n",
    "                                            .otherwise('big')).alias('scale')).show(3)\n",
    "\n",
    "# class_cd, school, class_std_cnt를 출력하시오\n",
    "# class_std_cnt 컬럼의 값들은 string타입으로 형변환합니다.\n",
    "# hint : pyspark.sql.Column.cast()\n",
    "class_df.select('class_cd', 'school', class_df.class_std_cnt.cast('int')).printSchema()\n",
    "\n",
    "\n"
   ]
  },
  {
   "cell_type": "markdown",
   "metadata": {},
   "source": [
    "### sql"
   ]
  },
  {
   "cell_type": "code",
   "execution_count": 62,
   "metadata": {},
   "outputs": [
    {
     "name": "stdout",
     "output_type": "stream",
     "text": [
      "+--------+------+--------+-------------+-------------+\n",
      "|class_cd|school|     loc|공립/사립여부|teaching_type|\n",
      "+--------+------+--------+-------------+-------------+\n",
      "|     6OL| ANKYI|   Urban|   Non-public|     Standard|\n",
      "|     ZNS| ANKYI|   Urban|   Non-public|     Standard|\n",
      "|     2B1| CCAAW|Suburban|   Non-public| Experimental|\n",
      "+--------+------+--------+-------------+-------------+\n",
      "only showing top 3 rows\n",
      "\n",
      "+--------+------+------+\n",
      "|class_cd|school| scale|\n",
      "+--------+------+------+\n",
      "|     6OL| ANKYI|middle|\n",
      "|     ZNS| ANKYI|middle|\n",
      "|     2B1| CCAAW|middle|\n",
      "+--------+------+------+\n",
      "only showing top 3 rows\n",
      "\n",
      "root\n",
      " |-- class_cd: string (nullable = true)\n",
      " |-- school: string (nullable = true)\n",
      " |-- class_std_cnt: string (nullable = true)\n",
      "\n"
     ]
    }
   ],
   "source": [
    "# sql을 사용해 같은 결과를 받아보기\n",
    "# dataFrame을 테이블로 등록\n",
    "class_df.createOrReplaceTempView('class')\n",
    "\n",
    "# 모든 row의 class_cd, school, loc, school_type, teaching_type을 출력하시오.\n",
    "# school_type의 컬럼명은 '공립/사립여부' 로 표시합니다.\n",
    "# alias 지정시 `` (백틱) 사용\n",
    "spark.sql('''\n",
    "    select class_cd, school, loc, school_type as `공립/사립여부`, teaching_type from class\n",
    "''').show(3)\n",
    "\n",
    "# class_cd, school, scale 을 출력하시오.\n",
    "# scale 컬럼은 반의 인원수가 15명 미만이면 small, 15명 이상 25명 미만이면 middle, 25명 이상이면 big 값을 가집니다.\n",
    "spark.sql('''\n",
    "    select class_cd, school, \n",
    "            case when class_std_cnt < 15 then 'small'\n",
    "                   when class_std_cnt >= 15 and  class_std_cnt < 25 then 'middle'\n",
    "                   else 'big'\n",
    "           end as scale\n",
    "    from class        \n",
    "''').show(3)\n",
    "\n",
    "# class_cd, school, class_std_cnt를 출력하시오\n",
    "# class_std_cnt 컬럼의 값들은 string타입으로 형변환합니다.\n",
    "# spark built-in-fnc 의 cast()\n",
    "spark.sql('''\n",
    "    select class_cd, school, cast(class_std_cnt as string) from class\n",
    "''').printSchema()\n",
    "\n",
    "\n",
    "\n",
    "\n"
   ]
  },
  {
   "cell_type": "markdown",
   "metadata": {},
   "source": [
    "## where(), filter()"
   ]
  },
  {
   "cell_type": "markdown",
   "metadata": {},
   "source": [
    "1. 공립이면서 교육방식이 전문인 데이터를 출력하시오\n",
    "\n",
    "2. 사립이면서 교육방식이 표준인 데이터를 출력하시오\n",
    "\n",
    "3. 학교 이름이 V로 시작하는 데이터를 출력하시오\n",
    "\n",
    "4. 학교 이름이 M로 끝나는 데이터를 출력하시오\n",
    "\n",
    "5. 학교 이름에 NKY가 포함된 데이터를 출력하시오\n",
    "\n",
    "6. 반의 학생 수가 15명 이상 24명 이하인 데이터를 출력하시오\n",
    "\n",
    "7. 학교 이름이 입력되지 않은 데이터들을 출력하시오\n"
   ]
  },
  {
   "cell_type": "code",
   "execution_count": 12,
   "metadata": {},
   "outputs": [
    {
     "name": "stdout",
     "output_type": "stream",
     "text": [
      "root\n",
      " |-- class_cd: string (nullable = true)\n",
      " |-- school: string (nullable = true)\n",
      " |-- class_std_cnt: string (nullable = true)\n",
      " |-- loc: string (nullable = true)\n",
      " |-- school_type: string (nullable = true)\n",
      " |-- teaching_type: string (nullable = true)\n",
      "\n",
      "공립이면서 교육방식이 전문인 데이터를 출력하시오.\n",
      "+--------+------+-------------+--------+-----------+-------------+\n",
      "|class_cd|school|class_std_cnt|     loc|school_type|teaching_type|\n",
      "+--------+------+-------------+--------+-----------+-------------+\n",
      "|     X6Z| CUQAM|           24|   Urban|     Public| Experimental|\n",
      "|     PW5| DNQDD|           20|Suburban|     Public| Experimental|\n",
      "|     ROP| DNQDD|           28|Suburban|     Public| Experimental|\n",
      "+--------+------+-------------+--------+-----------+-------------+\n",
      "only showing top 3 rows\n",
      "\n",
      "사립이면서 교육방식이 표준 데이터를 출력하시오.\n",
      "+--------+------+-------------+--------+-----------+-------------+\n",
      "|class_cd|school|class_std_cnt|     loc|school_type|teaching_type|\n",
      "+--------+------+-------------+--------+-----------+-------------+\n",
      "|     6OL| ANKYI|           20|   Urban| Non-public|     Standard|\n",
      "|     ZNS| ANKYI|           21|   Urban| Non-public|     Standard|\n",
      "|     PGK| CCAAW|           21|Suburban| Non-public|     Standard|\n",
      "+--------+------+-------------+--------+-----------+-------------+\n",
      "only showing top 3 rows\n",
      "\n",
      "학교 이름이 V로 시작하는 데이터를 출력하시오.\n",
      "+--------+------+-------------+-----+-----------+-------------+\n",
      "|class_cd|school|class_std_cnt|  loc|school_type|teaching_type|\n",
      "+--------+------+-------------+-----+-----------+-------------+\n",
      "|     CD8| VHDHF|           20|Rural| Non-public| Experimental|\n",
      "|     J6X| VHDHF|           16|Rural| Non-public|     Standard|\n",
      "|     KR1| VHDHF|           15|Rural| Non-public| Experimental|\n",
      "+--------+------+-------------+-----+-----------+-------------+\n",
      "only showing top 3 rows\n",
      "\n",
      "학교 이름이 M로 끝하는 데이터를 출력하시오.\n",
      "+--------+------+-------------+-----+-----------+-------------+\n",
      "|class_cd|school|class_std_cnt|  loc|school_type|teaching_type|\n",
      "+--------+------+-------------+-----+-----------+-------------+\n",
      "|     1Q1| CUQAM|           28|Urban|     Public|     Standard|\n",
      "|     BFY| CUQAM|           27|Urban|     Public|     Standard|\n",
      "|     OMI| CUQAM|           28|Urban|     Public|     Standard|\n",
      "+--------+------+-------------+-----+-----------+-------------+\n",
      "only showing top 3 rows\n",
      "\n",
      "학교 이름에 NKY가 들어가는 데이터를 출력하시오.\n",
      "+--------+------+-------------+-----+-----------+-------------+\n",
      "|class_cd|school|class_std_cnt|  loc|school_type|teaching_type|\n",
      "+--------+------+-------------+-----+-----------+-------------+\n",
      "|     6OL| ANKYI|           20|Urban| Non-public|     Standard|\n",
      "|     ZNS| ANKYI|           21|Urban| Non-public|     Standard|\n",
      "+--------+------+-------------+-----+-----------+-------------+\n",
      "\n",
      "반의 학생 수가 15명 이상 24명 이하인 데이터를 출력하시오.\n",
      "학교 이름이 입력되지 않은 데이터들을 출력하시오\n"
     ]
    },
    {
     "name": "stderr",
     "output_type": "stream",
     "text": [
      "\r",
      "[Stage 23:>                                                         (0 + 1) / 1]\r",
      "\r",
      "                                                                                \r"
     ]
    }
   ],
   "source": [
    "class_df.printSchema()\n",
    "\n",
    "print('공립이면서 교육방식이 전문인 데이터를 출력하시오.')\n",
    "class_df.select('*') \\\n",
    "            .where((class_df.school_type == 'Public') \n",
    "            & (class_df.teaching_type == 'Experimental')) \\\n",
    "            .show(3)\n",
    "\n",
    "print('사립이면서 교육방식이 표준 데이터를 출력하시오.')\n",
    "class_df.select('*') \\\n",
    "        .where((class_df.school_type == 'Non-public') & (class_df.teaching_type == 'Standard')) \\\n",
    "        .show(3)\n",
    "\n",
    "print('학교 이름이 V로 시작하는 데이터를 출력하시오.')\n",
    "class_df.select('*') \\\n",
    "        .where(class_df.school.startswith('V')) \\\n",
    "        .show(3)\n",
    "\n",
    "print('학교 이름이 M로 끝하는 데이터를 출력하시오.')\n",
    "class_df.select('*') \\\n",
    "        .where(class_df.school.endswith('M')) \\\n",
    "        .show(3)\n",
    "\n",
    "print('학교 이름에 NKY가 들어가는 데이터를 출력하시오.')\n",
    "class_df.select('*') \\\n",
    "        .where(class_df.school.contains('NKY')) \\\n",
    "        .show(3)\n",
    "\n",
    "print('반의 학생 수가 15명 이상 24명 이하인 데이터를 출력하시오.')\n",
    "class_df.select('*') \\\n",
    "        .where(class_df.class_std_cnt.between(15, 24)) \\\n",
    "        .show(3)\n",
    "\n",
    "print('학교 이름이 입력되지 않은 데이터들을 출력하시오')\n",
    "class_df.select('*') \\\n",
    "        .where(class_df.school.isNull()) \\\n",
    "        .show(3)\n"
   ]
  },
  {
   "cell_type": "markdown",
   "metadata": {},
   "source": [
    "#### sql"
   ]
  },
  {
   "cell_type": "code",
   "execution_count": 4,
   "metadata": {},
   "outputs": [
    {
     "name": "stdout",
     "output_type": "stream",
     "text": [
      "root\n",
      " |-- class_cd: string (nullable = true)\n",
      " |-- school: string (nullable = true)\n",
      " |-- class_std_cnt: string (nullable = true)\n",
      " |-- loc: string (nullable = true)\n",
      " |-- school_type: string (nullable = true)\n",
      " |-- teaching_type: string (nullable = true)\n",
      "\n",
      "공립이면서 교육방식이 전문인 데이터를 출력하시오\n"
     ]
    },
    {
     "ename": "AnalysisException",
     "evalue": "Table or view not found: class; line 2 pos 18;\n'Project [*]\n+- 'Filter (('school_type = Public) AND ('teaching_type = Experimental))\n   +- 'UnresolvedRelation [class], [], false\n",
     "output_type": "error",
     "traceback": [
      "\u001b[0;31m---------------------------------------------------------------------------\u001b[0m",
      "\u001b[0;31mAnalysisException\u001b[0m                         Traceback (most recent call last)",
      "Input \u001b[0;32mIn [4]\u001b[0m, in \u001b[0;36m<cell line: 4>\u001b[0;34m()\u001b[0m\n\u001b[1;32m      1\u001b[0m class_df\u001b[38;5;241m.\u001b[39mprintSchema()\n\u001b[1;32m      3\u001b[0m \u001b[38;5;28mprint\u001b[39m(\u001b[38;5;124m'\u001b[39m\u001b[38;5;124m공립이면서 교육방식이 전문인 데이터를 출력하시오\u001b[39m\u001b[38;5;124m'\u001b[39m)\n\u001b[0;32m----> 4\u001b[0m \u001b[43mspark\u001b[49m\u001b[38;5;241;43m.\u001b[39;49m\u001b[43msql\u001b[49m\u001b[43m(\u001b[49m\u001b[38;5;124;43m'''\u001b[39;49m\n\u001b[1;32m      5\u001b[0m \u001b[38;5;124;43m    select * from class where school_type = \u001b[39;49m\u001b[38;5;124;43m'\u001b[39;49m\u001b[38;5;124;43mPublic\u001b[39;49m\u001b[38;5;124;43m'\u001b[39;49m\u001b[38;5;124;43m and teaching_type = \u001b[39;49m\u001b[38;5;124;43m'\u001b[39;49m\u001b[38;5;124;43mExperimental\u001b[39;49m\u001b[38;5;124;43m'\u001b[39;49m\n\u001b[1;32m      6\u001b[0m \u001b[38;5;124;43m'''\u001b[39;49m\u001b[43m)\u001b[49m\u001b[38;5;241m.\u001b[39mshow(\u001b[38;5;241m3\u001b[39m)\n\u001b[1;32m      8\u001b[0m \u001b[38;5;28mprint\u001b[39m(\u001b[38;5;124m'\u001b[39m\u001b[38;5;124m사립이면서 교육방식이 표준인 데이터를 출력하시오\u001b[39m\u001b[38;5;124m'\u001b[39m)\n\u001b[1;32m      9\u001b[0m spark\u001b[38;5;241m.\u001b[39msql(\u001b[38;5;124m'''\u001b[39m\n\u001b[1;32m     10\u001b[0m \u001b[38;5;124m    select * from class \u001b[39m\n\u001b[1;32m     11\u001b[0m \u001b[38;5;124m    where school_type = \u001b[39m\u001b[38;5;124m'\u001b[39m\u001b[38;5;124mNon-public\u001b[39m\u001b[38;5;124m'\u001b[39m\u001b[38;5;124m and teaching_type = \u001b[39m\u001b[38;5;124m'\u001b[39m\u001b[38;5;124mStandard\u001b[39m\u001b[38;5;124m'\u001b[39m\n\u001b[1;32m     12\u001b[0m \u001b[38;5;124m'''\u001b[39m)\u001b[38;5;241m.\u001b[39mshow(\u001b[38;5;241m3\u001b[39m)\n",
      "File \u001b[0;32m~/spark/python/pyspark/sql/session.py:723\u001b[0m, in \u001b[0;36mSparkSession.sql\u001b[0;34m(self, sqlQuery)\u001b[0m\n\u001b[1;32m    707\u001b[0m \u001b[38;5;28;01mdef\u001b[39;00m \u001b[38;5;21msql\u001b[39m(\u001b[38;5;28mself\u001b[39m, sqlQuery):\n\u001b[1;32m    708\u001b[0m     \u001b[38;5;124;03m\"\"\"Returns a :class:`DataFrame` representing the result of the given query.\u001b[39;00m\n\u001b[1;32m    709\u001b[0m \n\u001b[1;32m    710\u001b[0m \u001b[38;5;124;03m    .. versionadded:: 2.0.0\u001b[39;00m\n\u001b[0;32m   (...)\u001b[0m\n\u001b[1;32m    721\u001b[0m \u001b[38;5;124;03m    [Row(f1=1, f2='row1'), Row(f1=2, f2='row2'), Row(f1=3, f2='row3')]\u001b[39;00m\n\u001b[1;32m    722\u001b[0m \u001b[38;5;124;03m    \"\"\"\u001b[39;00m\n\u001b[0;32m--> 723\u001b[0m     \u001b[38;5;28;01mreturn\u001b[39;00m DataFrame(\u001b[38;5;28;43mself\u001b[39;49m\u001b[38;5;241;43m.\u001b[39;49m\u001b[43m_jsparkSession\u001b[49m\u001b[38;5;241;43m.\u001b[39;49m\u001b[43msql\u001b[49m\u001b[43m(\u001b[49m\u001b[43msqlQuery\u001b[49m\u001b[43m)\u001b[49m, \u001b[38;5;28mself\u001b[39m\u001b[38;5;241m.\u001b[39m_wrapped)\n",
      "File \u001b[0;32m~/spark/python/lib/py4j-0.10.9.5-src.zip/py4j/java_gateway.py:1321\u001b[0m, in \u001b[0;36mJavaMember.__call__\u001b[0;34m(self, *args)\u001b[0m\n\u001b[1;32m   1315\u001b[0m command \u001b[38;5;241m=\u001b[39m proto\u001b[38;5;241m.\u001b[39mCALL_COMMAND_NAME \u001b[38;5;241m+\u001b[39m\\\n\u001b[1;32m   1316\u001b[0m     \u001b[38;5;28mself\u001b[39m\u001b[38;5;241m.\u001b[39mcommand_header \u001b[38;5;241m+\u001b[39m\\\n\u001b[1;32m   1317\u001b[0m     args_command \u001b[38;5;241m+\u001b[39m\\\n\u001b[1;32m   1318\u001b[0m     proto\u001b[38;5;241m.\u001b[39mEND_COMMAND_PART\n\u001b[1;32m   1320\u001b[0m answer \u001b[38;5;241m=\u001b[39m \u001b[38;5;28mself\u001b[39m\u001b[38;5;241m.\u001b[39mgateway_client\u001b[38;5;241m.\u001b[39msend_command(command)\n\u001b[0;32m-> 1321\u001b[0m return_value \u001b[38;5;241m=\u001b[39m \u001b[43mget_return_value\u001b[49m\u001b[43m(\u001b[49m\n\u001b[1;32m   1322\u001b[0m \u001b[43m    \u001b[49m\u001b[43manswer\u001b[49m\u001b[43m,\u001b[49m\u001b[43m \u001b[49m\u001b[38;5;28;43mself\u001b[39;49m\u001b[38;5;241;43m.\u001b[39;49m\u001b[43mgateway_client\u001b[49m\u001b[43m,\u001b[49m\u001b[43m \u001b[49m\u001b[38;5;28;43mself\u001b[39;49m\u001b[38;5;241;43m.\u001b[39;49m\u001b[43mtarget_id\u001b[49m\u001b[43m,\u001b[49m\u001b[43m \u001b[49m\u001b[38;5;28;43mself\u001b[39;49m\u001b[38;5;241;43m.\u001b[39;49m\u001b[43mname\u001b[49m\u001b[43m)\u001b[49m\n\u001b[1;32m   1324\u001b[0m \u001b[38;5;28;01mfor\u001b[39;00m temp_arg \u001b[38;5;129;01min\u001b[39;00m temp_args:\n\u001b[1;32m   1325\u001b[0m     temp_arg\u001b[38;5;241m.\u001b[39m_detach()\n",
      "File \u001b[0;32m~/spark/python/pyspark/sql/utils.py:117\u001b[0m, in \u001b[0;36mcapture_sql_exception.<locals>.deco\u001b[0;34m(*a, **kw)\u001b[0m\n\u001b[1;32m    113\u001b[0m converted \u001b[38;5;241m=\u001b[39m convert_exception(e\u001b[38;5;241m.\u001b[39mjava_exception)\n\u001b[1;32m    114\u001b[0m \u001b[38;5;28;01mif\u001b[39;00m \u001b[38;5;129;01mnot\u001b[39;00m \u001b[38;5;28misinstance\u001b[39m(converted, UnknownException):\n\u001b[1;32m    115\u001b[0m     \u001b[38;5;66;03m# Hide where the exception came from that shows a non-Pythonic\u001b[39;00m\n\u001b[1;32m    116\u001b[0m     \u001b[38;5;66;03m# JVM exception message.\u001b[39;00m\n\u001b[0;32m--> 117\u001b[0m     \u001b[38;5;28;01mraise\u001b[39;00m converted \u001b[38;5;28;01mfrom\u001b[39;00m \u001b[38;5;28mNone\u001b[39m\n\u001b[1;32m    118\u001b[0m \u001b[38;5;28;01melse\u001b[39;00m:\n\u001b[1;32m    119\u001b[0m     \u001b[38;5;28;01mraise\u001b[39;00m\n",
      "\u001b[0;31mAnalysisException\u001b[0m: Table or view not found: class; line 2 pos 18;\n'Project [*]\n+- 'Filter (('school_type = Public) AND ('teaching_type = Experimental))\n   +- 'UnresolvedRelation [class], [], false\n"
     ]
    }
   ],
   "source": [
    "class_df.printSchema()\n",
    "\n",
    "print('공립이면서 교육방식이 전문인 데이터를 출력하시오')\n",
    "spark.sql('''\n",
    "    select * from class where school_type = 'Public' and teaching_type = 'Experimental'\n",
    "''').show(3)\n",
    "\n",
    "print('사립이면서 교육방식이 표준인 데이터를 출력하시오')\n",
    "spark.sql('''\n",
    "    select * from class \n",
    "    where school_type = 'Non-public' and teaching_type = 'Standard'\n",
    "''').show(3)\n",
    "\n",
    "print('학교 이름이 V로 시작하는 데이터를 출력하시오')\n",
    "spark.sql('''\n",
    "    select * from class \n",
    "    where school like 'V%'\n",
    "''').show(3)\n",
    "\n",
    "print('학교 이름이 M로 끝나는 데이터를 출력하시오')\n",
    "spark.sql('''\n",
    "    select * from class \n",
    "    where school like '%M'\n",
    "''').show(3)\n",
    "\n",
    "print('학교 이름에 NKY가 포함된 데이터를 출력하시오')\n",
    "spark.sql('''\n",
    "    select * from class \n",
    "    where school like '%NKY%'\n",
    "''').show(3)\n",
    "\n",
    "print('반의 학생 수가 15명 이상 24명 이하인 데이터를 출력하시오')\n",
    "spark.sql('''\n",
    "    select * from class\n",
    "    where class_std_cnt between 15 and 24\n",
    "''').show(3)\n",
    "\n",
    "print('학교 이름이 입력되지 않은 데이터들을 출력하시오')\n",
    "spark.sql('''\n",
    "    select * from class\n",
    "    where school is null\n",
    "''').show(3)\n"
   ]
  },
  {
   "cell_type": "code",
   "execution_count": null,
   "metadata": {},
   "outputs": [],
   "source": [
    "\n"
   ]
  }
 ],
 "metadata": {
  "kernelspec": {
   "display_name": "Python 3 (ipykernel)",
   "language": "python",
   "name": "python3"
  },
  "language_info": {
   "codemirror_mode": {
    "name": "ipython",
    "version": 3
   },
   "file_extension": ".py",
   "mimetype": "text/x-python",
   "name": "python",
   "nbconvert_exporter": "python",
   "pygments_lexer": "ipython3",
   "version": "3.8.10"
  }
 },
 "nbformat": 4,
 "nbformat_minor": 5
}
