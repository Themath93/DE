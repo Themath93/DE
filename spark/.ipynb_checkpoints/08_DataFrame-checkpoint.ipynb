{
 "cells": [
  {
   "cell_type": "code",
   "execution_count": 1,
   "metadata": {},
   "outputs": [],
   "source": [
    "from IPython.core.interactiveshell import InteractiveShell\n",
    "InteractiveShell.ast_node_interactivity = \"all\""
   ]
  },
  {
   "cell_type": "code",
   "execution_count": 2,
   "metadata": {},
   "outputs": [
    {
     "name": "stdout",
     "output_type": "stream",
     "text": [
      "Collecting pandas\n",
      "  Downloading pandas-1.4.4-cp38-cp38-manylinux_2_17_x86_64.manylinux2014_x86_64.whl (11.7 MB)\n",
      "\u001b[K     |████████████████████████████████| 11.7 MB 19.3 MB/s eta 0:00:01\n",
      "\u001b[?25hRequirement already satisfied: python-dateutil>=2.8.1 in /home/big/.local/lib/python3.8/site-packages (from pandas) (2.8.2)\n",
      "Collecting pytz>=2020.1\n",
      "  Downloading pytz-2022.2.1-py2.py3-none-any.whl (500 kB)\n",
      "\u001b[K     |████████████████████████████████| 500 kB 8.1 MB/s eta 0:00:01\n",
      "\u001b[?25hRequirement already satisfied: numpy>=1.18.5; platform_machine != \"aarch64\" and platform_machine != \"arm64\" and python_version < \"3.10\" in /home/big/.local/lib/python3.8/site-packages (from pandas) (1.23.2)\n",
      "Requirement already satisfied: six>=1.5 in /usr/lib/python3/dist-packages (from python-dateutil>=2.8.1->pandas) (1.14.0)\n",
      "Installing collected packages: pytz, pandas\n",
      "Successfully installed pandas-1.4.4 pytz-2022.2.1\n",
      "Collecting pyarrow\n",
      "  Downloading pyarrow-9.0.0-cp38-cp38-manylinux_2_17_x86_64.manylinux2014_x86_64.whl (35.3 MB)\n",
      "\u001b[K     |████████████████████████████████| 35.3 MB 29.7 MB/s eta 0:00:01     |█████████████████               | 18.6 MB 16.9 MB/s eta 0:00:01\n",
      "\u001b[?25hRequirement already satisfied: numpy>=1.16.6 in /home/big/.local/lib/python3.8/site-packages (from pyarrow) (1.23.2)\n",
      "Installing collected packages: pyarrow\n",
      "\u001b[33m  WARNING: The script plasma_store is installed in '/home/big/.local/bin' which is not on PATH.\n",
      "  Consider adding this directory to PATH or, if you prefer to suppress this warning, use --no-warn-script-location.\u001b[0m\n",
      "Successfully installed pyarrow-9.0.0\n"
     ]
    }
   ],
   "source": [
    "# !pip install pandas\n",
    "# !pip install pyarrow\n",
    "from datetime import date, datetime\n",
    "from pyspark.sql import *\n",
    "from pyspark.sql.types import *\n",
    "from pyspark.sql.functions import *\n",
    "import pandas as pd\n",
    "from datetime import date, datetime\n",
    "from pyspark.sql import *\n"
   ]
  },
  {
   "cell_type": "markdown",
   "metadata": {},
   "source": [
    "# 1. DataFrame 생성"
   ]
  },
  {
   "cell_type": "markdown",
   "metadata": {},
   "source": [
    "- SparkSession 객체를 사용해 DataFrame을 생성할 수 있다.\n",
    "- SparkSession 객체는 pyspark shell을 실행할 때 spark 라는 이름으로 미리 생성된다.\n",
    "\n"
   ]
  },
  {
   "cell_type": "markdown",
   "metadata": {},
   "source": [
    "## Row 객체를 사용해 생성하기\n",
    "\n",
    "- row : DataFrame에서의 한 행"
   ]
  },
  {
   "cell_type": "code",
   "execution_count": 3,
   "metadata": {},
   "outputs": [
    {
     "name": "stderr",
     "output_type": "stream",
     "text": [
      "                                                                                \r"
     ]
    },
    {
     "name": "stdout",
     "output_type": "stream",
     "text": [
      "+------+---+----------+\n",
      "|  name|age|     birth|\n",
      "+------+---+----------+\n",
      "|하명도| 21|2001-09-06|\n",
      "|이상엽| 22|2000-10-08|\n",
      "|강혁준| 19|2003-08-09|\n",
      "+------+---+----------+\n",
      "\n"
     ]
    }
   ],
   "source": [
    "df = spark.createDataFrame([\n",
    "    Row(name='하명도', age=21, birth=date(2001,9,6))\n",
    "    ,Row(name='이상엽', age=22, birth=date(2000,10,8))    \n",
    "    ,Row(name='강혁준', age=19, birth=date(2003,8,9))    \n",
    "])\n",
    "\n",
    "df.show()"
   ]
  },
  {
   "cell_type": "code",
   "execution_count": 4,
   "metadata": {},
   "outputs": [
    {
     "name": "stdout",
     "output_type": "stream",
     "text": [
      "root\n",
      " |-- name: string (nullable = true)\n",
      " |-- age: long (nullable = true)\n",
      " |-- birth: date (nullable = true)\n",
      "\n"
     ]
    }
   ],
   "source": [
    "# 스키마 확인\n",
    "df.printSchema()"
   ]
  },
  {
   "cell_type": "markdown",
   "metadata": {},
   "source": [
    "## schema를 명시하여 DataFrame 생성"
   ]
  },
  {
   "cell_type": "code",
   "execution_count": 7,
   "metadata": {
    "scrolled": false
   },
   "outputs": [
    {
     "name": "stdout",
     "output_type": "stream",
     "text": [
      "+------+---+----------+\n",
      "|  name|age|     birth|\n",
      "+------+---+----------+\n",
      "|김경민| 17|2005-10-11|\n",
      "|김도은| 18|2004-12-25|\n",
      "|김민석| 11|2011-01-10|\n",
      "+------+---+----------+\n",
      "\n",
      "root\n",
      " |-- name: string (nullable = true)\n",
      " |-- age: integer (nullable = true)\n",
      " |-- birth: date (nullable = true)\n",
      "\n"
     ]
    }
   ],
   "source": [
    "# 튜플에 데이터를 저장하고 스키마를 직접 지정\n",
    "df2 = spark.createDataFrame([\n",
    "       ('김경민', 17, date(2005, 10,11))\n",
    "     , ('김도은', 18, date(2004,12,25))\n",
    "     , ('김민석', 11, date(2011, 1,10))\n",
    "], schema='name string, age int, birth date')\n",
    "df2.show()\n",
    "df2.printSchema()"
   ]
  },
  {
   "cell_type": "markdown",
   "metadata": {},
   "source": [
    "## StructType 객체를 사용해 Schema 지정"
   ]
  },
  {
   "cell_type": "code",
   "execution_count": 9,
   "metadata": {},
   "outputs": [
    {
     "name": "stdout",
     "output_type": "stream",
     "text": [
      "+------+---+----------+\n",
      "|  name|age|     birth|\n",
      "+------+---+----------+\n",
      "|손지수| 22|2011-06-08|\n",
      "|유승종| 21|2009-08-28|\n",
      "|윤병우| 23|2022-03-03|\n",
      "+------+---+----------+\n",
      "\n",
      "root\n",
      " |-- name: string (nullable = false)\n",
      " |-- age: integer (nullable = false)\n",
      " |-- birth: date (nullable = false)\n",
      "\n"
     ]
    }
   ],
   "source": [
    "schema = StructType([\n",
    "   StructField(\"name\", StringType(), False),\n",
    "   StructField(\"age\", IntegerType(), False),\n",
    "   StructField(\"birth\", DateType(), False)\n",
    "])\n",
    "\n",
    "df3 = spark.createDataFrame([\n",
    "    ('손지수', 22, date(2011, 6, 8))\n",
    "    ,('유승종', 21, date(2009, 8, 28))\n",
    "    ,('윤병우', 23, date(2022, 3, 3))\n",
    "], schema=schema)\n",
    "\n",
    "df3.show()\n",
    "df3.printSchema()\n"
   ]
  },
  {
   "cell_type": "markdown",
   "metadata": {},
   "source": [
    "## 중첩스키마적용"
   ]
  },
  {
   "cell_type": "code",
   "execution_count": 13,
   "metadata": {},
   "outputs": [
    {
     "name": "stdout",
     "output_type": "stream",
     "text": [
      "+------+---+----------+-----------------+\n",
      "|  name|age|     birth|            phone|\n",
      "+------+---+----------+-----------------+\n",
      "|이서정| 21|2000-11-11|{010, 1111, 2222}|\n",
      "|이선희| 25|1999-11-11|{010, 2222, 2222}|\n",
      "|정주연| 23|2244-06-23|{010, 3333, 2222}|\n",
      "+------+---+----------+-----------------+\n",
      "\n",
      "root\n",
      " |-- name: string (nullable = false)\n",
      " |-- age: integer (nullable = false)\n",
      " |-- birth: date (nullable = false)\n",
      " |-- phone: struct (nullable = false)\n",
      " |    |-- phone1: string (nullable = false)\n",
      " |    |-- phone2: string (nullable = false)\n",
      " |    |-- phone3: string (nullable = false)\n",
      "\n",
      "{\"fields\":[{\"metadata\":{},\"name\":\"name\",\"nullable\":false,\"type\":\"string\"},{\"metadata\":{},\"name\":\"age\",\"nullable\":false,\"type\":\"integer\"},{\"metadata\":{},\"name\":\"birth\",\"nullable\":false,\"type\":\"date\"},{\"metadata\":{},\"name\":\"phone\",\"nullable\":false,\"type\":{\"fields\":[{\"metadata\":{},\"name\":\"phone1\",\"nullable\":false,\"type\":\"string\"},{\"metadata\":{},\"name\":\"phone2\",\"nullable\":false,\"type\":\"string\"},{\"metadata\":{},\"name\":\"phone3\",\"nullable\":false,\"type\":\"string\"}],\"type\":\"struct\"}}],\"type\":\"struct\"}\n"
     ]
    }
   ],
   "source": [
    "data = [\n",
    "    ('이서정', 21, date(2000, 11, 11), ('010', '1111','2222'))\n",
    "  , ('이선희', 25, date(1999, 11, 11), ('010', '2222','2222'))\n",
    "   , ('정주연', 23, date(2244, 6, 23), ('010', '3333','2222'))\n",
    "]\n",
    "\n",
    "schema = StructType([\n",
    "   StructField(\"name\", StringType(), False),\n",
    "   StructField(\"age\", IntegerType(), False),\n",
    "   StructField(\"birth\", DateType(), False),\n",
    "   StructField(\"phone\", StructType([\n",
    "          StructField(\"phone1\", StringType(), False),\n",
    "          StructField(\"phone2\", StringType(), False),\n",
    "          StructField(\"phone3\", StringType(), False),\n",
    "  ]), False, metadata={'desc':'user phone number'})\n",
    "])\n",
    "\n",
    "df4 = spark.createDataFrame(data=data, schema=schema)\n",
    "df4.show()\n",
    "df4.printSchema()\n",
    "\n",
    "schema_json = df4.schema.json()\n",
    "print(schema_json)\n",
    "\n"
   ]
  },
  {
   "cell_type": "markdown",
   "metadata": {},
   "source": [
    "## Pandas DataFrame으로 생성"
   ]
  },
  {
   "cell_type": "code",
   "execution_count": 7,
   "metadata": {
    "scrolled": true
   },
   "outputs": [
    {
     "data": {
      "text/plain": [
       "pandas.core.frame.DataFrame"
      ]
     },
     "execution_count": 7,
     "metadata": {},
     "output_type": "execute_result"
    },
    {
     "name": "stdout",
     "output_type": "stream",
     "text": [
      "+------+---+----------+\n",
      "|  name|age|     birth|\n",
      "+------+---+----------+\n",
      "|하명도| 20|2022-07-01|\n",
      "|이제동| 21|2022-07-02|\n",
      "|김명운| 22|2022-07-03|\n",
      "+------+---+----------+\n",
      "\n"
     ]
    }
   ],
   "source": []
  },
  {
   "cell_type": "markdown",
   "metadata": {},
   "source": [
    "## DataFrame -> Pandas"
   ]
  },
  {
   "cell_type": "code",
   "execution_count": 8,
   "metadata": {
    "scrolled": true
   },
   "outputs": [
    {
     "data": {
      "text/html": [
       "<div>\n",
       "<style scoped>\n",
       "    .dataframe tbody tr th:only-of-type {\n",
       "        vertical-align: middle;\n",
       "    }\n",
       "\n",
       "    .dataframe tbody tr th {\n",
       "        vertical-align: top;\n",
       "    }\n",
       "\n",
       "    .dataframe thead th {\n",
       "        text-align: right;\n",
       "    }\n",
       "</style>\n",
       "<table border=\"1\" class=\"dataframe\">\n",
       "  <thead>\n",
       "    <tr style=\"text-align: right;\">\n",
       "      <th></th>\n",
       "      <th>name</th>\n",
       "      <th>age</th>\n",
       "      <th>birth</th>\n",
       "    </tr>\n",
       "  </thead>\n",
       "  <tbody>\n",
       "    <tr>\n",
       "      <th>0</th>\n",
       "      <td>하명도</td>\n",
       "      <td>20</td>\n",
       "      <td>2022-07-01</td>\n",
       "    </tr>\n",
       "    <tr>\n",
       "      <th>1</th>\n",
       "      <td>이제동</td>\n",
       "      <td>21</td>\n",
       "      <td>2022-07-02</td>\n",
       "    </tr>\n",
       "    <tr>\n",
       "      <th>2</th>\n",
       "      <td>김명운</td>\n",
       "      <td>22</td>\n",
       "      <td>2022-07-03</td>\n",
       "    </tr>\n",
       "  </tbody>\n",
       "</table>\n",
       "</div>"
      ],
      "text/plain": [
       "  name  age       birth\n",
       "0  하명도   20  2022-07-01\n",
       "1  이제동   21  2022-07-02\n",
       "2  김명운   22  2022-07-03"
      ]
     },
     "execution_count": 8,
     "metadata": {},
     "output_type": "execute_result"
    }
   ],
   "source": []
  },
  {
   "cell_type": "markdown",
   "metadata": {},
   "source": [
    "## DataFrame -> pyspark.pandas\n"
   ]
  },
  {
   "cell_type": "code",
   "execution_count": 9,
   "metadata": {},
   "outputs": [
    {
     "name": "stderr",
     "output_type": "stream",
     "text": [
      "WARNING:root:'PYARROW_IGNORE_TIMEZONE' environment variable was not set. It is required to set this environment variable to '1' in both driver and executor sides if you use pyarrow>=2.0.0. pandas-on-Spark will set it for you but it does not work if there is a Spark context already launched.\n",
      "                                                                                \r"
     ]
    },
    {
     "data": {
      "text/html": [
       "<div>\n",
       "<style scoped>\n",
       "    .dataframe tbody tr th:only-of-type {\n",
       "        vertical-align: middle;\n",
       "    }\n",
       "\n",
       "    .dataframe tbody tr th {\n",
       "        vertical-align: top;\n",
       "    }\n",
       "\n",
       "    .dataframe thead th {\n",
       "        text-align: right;\n",
       "    }\n",
       "</style>\n",
       "<table border=\"1\" class=\"dataframe\">\n",
       "  <thead>\n",
       "    <tr style=\"text-align: right;\">\n",
       "      <th></th>\n",
       "      <th>name</th>\n",
       "      <th>age</th>\n",
       "      <th>birth</th>\n",
       "    </tr>\n",
       "  </thead>\n",
       "  <tbody>\n",
       "    <tr>\n",
       "      <th>0</th>\n",
       "      <td>하명도</td>\n",
       "      <td>20</td>\n",
       "      <td>2022-07-01</td>\n",
       "    </tr>\n",
       "    <tr>\n",
       "      <th>1</th>\n",
       "      <td>이제동</td>\n",
       "      <td>21</td>\n",
       "      <td>2022-07-02</td>\n",
       "    </tr>\n",
       "    <tr>\n",
       "      <th>2</th>\n",
       "      <td>김명운</td>\n",
       "      <td>22</td>\n",
       "      <td>2022-07-03</td>\n",
       "    </tr>\n",
       "  </tbody>\n",
       "</table>\n",
       "</div>"
      ],
      "text/plain": [
       "  name  age       birth\n",
       "0  하명도   20  2022-07-01\n",
       "1  이제동   21  2022-07-02\n",
       "2  김명운   22  2022-07-03"
      ]
     },
     "execution_count": 9,
     "metadata": {},
     "output_type": "execute_result"
    },
    {
     "data": {
      "text/plain": [
       "pyspark.sql.dataframe.DataFrame"
      ]
     },
     "execution_count": 9,
     "metadata": {},
     "output_type": "execute_result"
    }
   ],
   "source": []
  },
  {
   "cell_type": "markdown",
   "metadata": {},
   "source": [
    "## 외부파일을 사용해 DataFrame 생성"
   ]
  },
  {
   "cell_type": "code",
   "execution_count": 10,
   "metadata": {},
   "outputs": [
    {
     "name": "stderr",
     "output_type": "stream",
     "text": [
      "                                                                                \r"
     ]
    },
    {
     "name": "stdout",
     "output_type": "stream",
     "text": [
      "+--------+------+-------------+--------+-----------+-------------+\n",
      "|class_cd|school|class_std_cnt|     loc|school_type|teaching_type|\n",
      "+--------+------+-------------+--------+-----------+-------------+\n",
      "|     6OL| ANKYI|           20|   Urban| Non-public|     Standard|\n",
      "|     ZNS| ANKYI|           21|   Urban| Non-public|     Standard|\n",
      "|     2B1| CCAAW|           18|Suburban| Non-public| Experimental|\n",
      "|     EPS| CCAAW|           20|Suburban| Non-public| Experimental|\n",
      "|     IQN| CCAAW|           15|Suburban| Non-public| Experimental|\n",
      "+--------+------+-------------+--------+-----------+-------------+\n",
      "only showing top 5 rows\n",
      "\n",
      "-RECORD 0-------------------\n",
      " class_cd      | 6OL        \n",
      " school        | ANKYI      \n",
      " class_std_cnt | 20         \n",
      " loc           | Urban      \n",
      " school_type   | Non-public \n",
      " teaching_type | Standard   \n",
      "only showing top 1 row\n",
      "\n"
     ]
    }
   ],
   "source": []
  },
  {
   "cell_type": "markdown",
   "metadata": {},
   "source": [
    "## DataFrame 컬럼"
   ]
  },
  {
   "cell_type": "markdown",
   "metadata": {},
   "source": [
    "- withColumn"
   ]
  },
  {
   "cell_type": "code",
   "execution_count": 30,
   "metadata": {},
   "outputs": [],
   "source": [
    "\n"
   ]
  },
  {
   "cell_type": "code",
   "execution_count": 32,
   "metadata": {
    "scrolled": true
   },
   "outputs": [
    {
     "name": "stdout",
     "output_type": "stream",
     "text": [
      "+------+---+----------+-----------------+--------+\n",
      "|  name|age|     birth|            phone|우승여부|\n",
      "+------+---+----------+-----------------+--------+\n",
      "|하명도| 15|2022-07-22|{010, 1111, 2222}|        |\n",
      "|이제동| 20|2021-07-22|{010, 2222, 3333}|        |\n",
      "|김명운| 25|2020-07-22|{010, 4444, 5555}|        |\n",
      "|홍진호| 36|2018-07-22|{010, 3333, 4444}|        |\n",
      "+------+---+----------+-----------------+--------+\n",
      "\n",
      "+------+---+----------+-----------------+--------+\n",
      "|  name|age|     birth|            phone|우승여부|\n",
      "+------+---+----------+-----------------+--------+\n",
      "|하명도| 15|2022-07-22|{010, 1111, 2222}|    우승|\n",
      "|이제동| 20|2021-07-22|{010, 2222, 3333}|    우승|\n",
      "|김명운| 25|2020-07-22|{010, 4444, 5555}|    우승|\n",
      "|홍진호| 36|2018-07-22|{010, 3333, 4444}|    우승|\n",
      "+------+---+----------+-----------------+--------+\n",
      "\n",
      "+------+---+----------+-----------------+---------+\n",
      "|  name|age|     birth|            phone|   연령대|\n",
      "+------+---+----------+-----------------+---------+\n",
      "|하명도| 15|2022-07-22|{010, 1111, 2222}|     10대|\n",
      "|이제동| 20|2021-07-22|{010, 2222, 3333}|     20대|\n",
      "|김명운| 25|2020-07-22|{010, 4444, 5555}|     20대|\n",
      "|홍진호| 36|2018-07-22|{010, 3333, 4444}|30대 이상|\n",
      "+------+---+----------+-----------------+---------+\n",
      "\n"
     ]
    }
   ],
   "source": []
  },
  {
   "cell_type": "markdown",
   "metadata": {},
   "source": [
    "### column  내용  변경"
   ]
  },
  {
   "cell_type": "code",
   "execution_count": 36,
   "metadata": {
    "scrolled": true
   },
   "outputs": [
    {
     "name": "stdout",
     "output_type": "stream",
     "text": [
      "+------+---+----------+-----------------+------+\n",
      "|  name|age|     birth|            phone|연령대|\n",
      "+------+---+----------+-----------------+------+\n",
      "|하명도| 15|2022-07-22|{010, 1111, 2222}|어린이|\n",
      "|이제동| 20|2021-07-22|{010, 2222, 3333}|  청년|\n",
      "|김명운| 25|2020-07-22|{010, 4444, 5555}|  청년|\n",
      "|홍진호| 36|2018-07-22|{010, 3333, 4444}|  성인|\n",
      "+------+---+----------+-----------------+------+\n",
      "\n"
     ]
    }
   ],
   "source": []
  },
  {
   "cell_type": "markdown",
   "metadata": {},
   "source": [
    "### column 이름 변경"
   ]
  },
  {
   "cell_type": "code",
   "execution_count": 39,
   "metadata": {
    "scrolled": true
   },
   "outputs": [
    {
     "name": "stdout",
     "output_type": "stream",
     "text": [
      "+------+---+----------+-----------------+------+\n",
      "|  name|age|     birth|            phone|  분류|\n",
      "+------+---+----------+-----------------+------+\n",
      "|하명도| 15|2022-07-22|{010, 1111, 2222}|어린이|\n",
      "|이제동| 20|2021-07-22|{010, 2222, 3333}|  청년|\n",
      "|김명운| 25|2020-07-22|{010, 4444, 5555}|  청년|\n",
      "|홍진호| 36|2018-07-22|{010, 3333, 4444}|  성인|\n",
      "+------+---+----------+-----------------+------+\n",
      "\n"
     ]
    }
   ],
   "source": []
  },
  {
   "cell_type": "markdown",
   "metadata": {},
   "source": [
    "### column  삭제"
   ]
  },
  {
   "cell_type": "code",
   "execution_count": 40,
   "metadata": {},
   "outputs": [
    {
     "name": "stdout",
     "output_type": "stream",
     "text": [
      "+------+---+----------+-----------------+\n",
      "|  name|age|     birth|            phone|\n",
      "+------+---+----------+-----------------+\n",
      "|하명도| 15|2022-07-22|{010, 1111, 2222}|\n",
      "|이제동| 20|2021-07-22|{010, 2222, 3333}|\n",
      "|김명운| 25|2020-07-22|{010, 4444, 5555}|\n",
      "|홍진호| 36|2018-07-22|{010, 3333, 4444}|\n",
      "+------+---+----------+-----------------+\n",
      "\n"
     ]
    }
   ],
   "source": []
  },
  {
   "cell_type": "markdown",
   "metadata": {},
   "source": []
  }
 ],
 "metadata": {
  "kernelspec": {
   "display_name": "Python 3 (ipykernel)",
   "language": "python",
   "name": "python3"
  },
  "language_info": {
   "codemirror_mode": {
    "name": "ipython",
    "version": 3
   },
   "file_extension": ".py",
   "mimetype": "text/x-python",
   "name": "python",
   "nbconvert_exporter": "python",
   "pygments_lexer": "ipython3",
   "version": "3.8.10"
  }
 },
 "nbformat": 4,
 "nbformat_minor": 5
}
